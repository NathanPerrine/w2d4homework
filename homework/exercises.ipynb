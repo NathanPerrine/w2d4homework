{
 "cells": [
  {
   "cell_type": "markdown",
   "id": "1c2ef29e",
   "metadata": {},
   "source": [
    "### 1) Create a program that allows a user to continue to add people to an address book until the user quits. Once the user quits, break out of the loop and print out the name and address of everyone in the address book"
   ]
  },
  {
   "cell_type": "markdown",
   "id": "71cf394a",
   "metadata": {},
   "source": [
    "###### Steps\n",
    "1. Create a function that will ask user for name and addresses and stores them in a dictionary\n",
    "2. Define an empty dictionary with which to work (global or local variable?)\n",
    "3. Begin a loop that will continue to ask a user for information until the user \"quits\"\n",
    "4. If the user does not quit, ask for a name and address and store the variables into variables\n",
    "5. Add information to the dictionary with name as the key and address as the value\n",
    "6. If the user does quit, end the loop\n",
    "7. Print out the information from the dictionary in a formatted way\n",
    "8. Execute/Call the function"
   ]
  },
  {
   "cell_type": "code",
   "execution_count": 1,
   "id": "8560a347",
   "metadata": {},
   "outputs": [],
   "source": [
    "def add_to_address():\n",
    "    while True:\n",
    "        user_continue = input(\"Would you like to add a name to the address book? (Y/N) \")\n",
    "        if user_continue.title() == \"Y\":\n",
    "            first = input(\"Please enter the First Name: \")\n",
    "            last = input(\"Please enter the Last Name: \")\n",
    "            address = input(\"Please enter the address: \")\n",
    "            number = input(\"Please enter the phone number: \")\n",
    "            new_person = {\"First Name\": first, \"Last Name\": last, \"Address\": address, \"Number\": number}\n",
    "\n",
    "            if first in address_book.keys():\n",
    "                if address_book[first][\"Last Name\"] == last:\n",
    "                    user_continue = input(\"Name already exists, do you wand to override? (Y/N) \")\n",
    "                    if user_continue.title() == \"Y\":\n",
    "                        address_book[first]['Address'] = address\n",
    "                        address_book[first]['Number'] = number\n",
    "                    else: \n",
    "                        continue\n",
    "            else:    \n",
    "                address_book[first] = new_person\n",
    "        else:\n",
    "            break"
   ]
  },
  {
   "cell_type": "code",
   "execution_count": 2,
   "id": "1b91d934",
   "metadata": {},
   "outputs": [],
   "source": [
    "def print_address_book(book):\n",
    "    for person in book:\n",
    "        print(f\"\"\"        ================\n",
    "        First name: {book[person]['First Name']}\n",
    "        Last Name: {book[person]['Last Name']}\n",
    "        Address: {book[person]['Address']}\n",
    "        Number: {book[person]['Number']}\"\"\")"
   ]
  },
  {
   "cell_type": "code",
   "execution_count": 3,
   "id": "4cb8af7c",
   "metadata": {},
   "outputs": [],
   "source": [
    "address_book = {}"
   ]
  },
  {
   "cell_type": "code",
   "execution_count": 4,
   "id": "b618e4e7",
   "metadata": {},
   "outputs": [
    {
     "name": "stdout",
     "output_type": "stream",
     "text": [
      "Would you like to add a name to the address book? (Y/N) y\n",
      "Please enter the First Name: Bob\n",
      "Please enter the Last Name: Bobbert\n",
      "Please enter the address: 123 Bob St. W\n",
      "Please enter the phone number: Bob123\n",
      "Would you like to add a name to the address book? (Y/N) y\n",
      "Please enter the First Name: Slagathor\n",
      "Please enter the Last Name: Slaggy\n",
      "Please enter the address: 456 Slag Blvd.\n",
      "Please enter the phone number: 5558889999\n",
      "Would you like to add a name to the address book? (Y/N) n\n"
     ]
    }
   ],
   "source": [
    "add_to_address()"
   ]
  },
  {
   "cell_type": "code",
   "execution_count": 5,
   "id": "e3b651b6",
   "metadata": {},
   "outputs": [
    {
     "name": "stdout",
     "output_type": "stream",
     "text": [
      "        ================\n",
      "        First name: Bob\n",
      "        Last Name: Bobbert\n",
      "        Address: 123 Bob St. W\n",
      "        Number: Bob123\n",
      "        ================\n",
      "        First name: Slagathor\n",
      "        Last Name: Slaggy\n",
      "        Address: 456 Slag Blvd.\n",
      "        Number: 5558889999\n"
     ]
    }
   ],
   "source": [
    "print_address_book(address_book)"
   ]
  },
  {
   "cell_type": "code",
   "execution_count": 6,
   "id": "470dc866",
   "metadata": {},
   "outputs": [
    {
     "name": "stdout",
     "output_type": "stream",
     "text": [
      "Would you like to add a name to the address book? (Y/N) y\n",
      "Please enter the First Name: Bob\n",
      "Please enter the Last Name: Bobbert\n",
      "Please enter the address: 123 Not Bob St.\n",
      "Please enter the phone number: 123Bob\n",
      "Name already exists, do you wand to override? (Y/N) y\n",
      "Would you like to add a name to the address book? (Y/N) n\n"
     ]
    }
   ],
   "source": [
    "add_to_address()"
   ]
  },
  {
   "cell_type": "code",
   "execution_count": 7,
   "id": "16f54997",
   "metadata": {},
   "outputs": [
    {
     "name": "stdout",
     "output_type": "stream",
     "text": [
      "        ================\n",
      "        First name: Bob\n",
      "        Last Name: Bobbert\n",
      "        Address: 123 Not Bob St.\n",
      "        Number: 123Bob\n",
      "        ================\n",
      "        First name: Slagathor\n",
      "        Last Name: Slaggy\n",
      "        Address: 456 Slag Blvd.\n",
      "        Number: 5558889999\n"
     ]
    }
   ],
   "source": [
    "print_address_book(address_book)"
   ]
  },
  {
   "cell_type": "markdown",
   "id": "b4f7effb",
   "metadata": {},
   "source": [
    "### 2) Best Time to Meet"
   ]
  },
  {
   "cell_type": "markdown",
   "id": "6ce48cb7",
   "metadata": {},
   "source": [
    "Billy is trying to figure out if there is a time that he and his team can meet to work on the project. His three teammates each give him a list of times they are available ('HH:MM' 24-hour). Create a function that will take in the list of all the teammates and return a list of times where everyone can meet."
   ]
  },
  {
   "cell_type": "code",
   "execution_count": 6,
   "id": "46f3612e",
   "metadata": {},
   "outputs": [],
   "source": [
    "billy_times = ['09:00', '10:30', '11:30', '12:00', '13:00', '14:30']\n",
    "teammate_1 = ['09:30', '10:00', '10:30', '12:00', '14:30', '16:00']\n",
    "teammate_2 = ['09:00', '09:30', '11:00', '11:30', '12:00', '13:30', '14:30', '15:00']\n",
    "teammate_3 = ['11:00', '11:30', '12:00', '14:00', '14:30', '16:30', '17:00']\n",
    "# Available Times: '12:00' and '14:30'"
   ]
  },
  {
   "cell_type": "code",
   "execution_count": 3,
   "id": "2531b97a",
   "metadata": {},
   "outputs": [],
   "source": [
    "def find_times(*times):\n",
    "    best_time = set.intersection(*[set(time) for time in times])\n",
    "    return best_time"
   ]
  },
  {
   "cell_type": "code",
   "execution_count": 7,
   "id": "1a30334f",
   "metadata": {},
   "outputs": [
    {
     "name": "stdout",
     "output_type": "stream",
     "text": [
      "{'14:30', '12:00'}\n"
     ]
    }
   ],
   "source": [
    "print(find_times(billy_times, teammate_1, teammate_2, teammate_3))"
   ]
  }
 ],
 "metadata": {
  "kernelspec": {
   "display_name": "Python 3 (ipykernel)",
   "language": "python",
   "name": "python3"
  },
  "language_info": {
   "codemirror_mode": {
    "name": "ipython",
    "version": 3
   },
   "file_extension": ".py",
   "mimetype": "text/x-python",
   "name": "python",
   "nbconvert_exporter": "python",
   "pygments_lexer": "ipython3",
   "version": "3.9.7"
  }
 },
 "nbformat": 4,
 "nbformat_minor": 5
}
